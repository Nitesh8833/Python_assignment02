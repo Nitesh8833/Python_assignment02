{
  "nbformat": 4,
  "nbformat_minor": 0,
  "metadata": {
    "colab": {
      "name": "Assignment_15PAA.ipynb",
      "provenance": [],
      "collapsed_sections": []
    },
    "kernelspec": {
      "name": "python3",
      "display_name": "Python 3"
    },
    "language_info": {
      "name": "python"
    }
  },
  "cells": [
    {
      "cell_type": "markdown",
      "metadata": {
        "id": "zp_66vXU0RUu"
      },
      "source": [
        "1.\tWhat are the new features added in Python 3.8 version?"
      ]
    },
    {
      "cell_type": "markdown",
      "metadata": {
        "id": "8LjvNAIF0cF_"
      },
      "source": [
        "In Python 3.8, the multiprocessing module offers a SharedMemory class that allows regions of memory to be created and shared between different Python processes. \n",
        "\n",
        "Shared memory provides a much faster path for passing data between process, which eventually allows Python to use multiple processors and multiple cores more efficiently.\n",
        "\n",
        "\n",
        "Many built-in methods and functions have been sped up by 20% to 50%.\n",
        "\n",
        "\n",
        "Newly created lists are now on average 12% smaller than before\n",
        "Writes to class variables are much faster in Python 3.8."
      ]
    },
    {
      "cell_type": "markdown",
      "metadata": {
        "id": "zBHG3ppu2rAH"
      },
      "source": [
        "2.\tWhat is monkey patching in Python?"
      ]
    },
    {
      "cell_type": "markdown",
      "metadata": {
        "id": "FgeerTeT3DrZ"
      },
      "source": [
        "In Python, the term monkey patch refers to dynamic (or run-time) modifications of a class or module. In Python, we can actually change the behavior of code at run-time."
      ]
    },
    {
      "cell_type": "code",
      "metadata": {
        "id": "mluNDaPW3kU1"
      },
      "source": [
        "# monk.py\n",
        "class A:\n",
        "\tdef func(self):\n",
        "\t\tprint (\"func() is being called\")\n"
      ],
      "execution_count": null,
      "outputs": []
    },
    {
      "cell_type": "markdown",
      "metadata": {
        "id": "lgtelKbN3oXA"
      },
      "source": [
        "We use above module (monk) in below code and change behavior of func() at run-time by assigning different value."
      ]
    },
    {
      "cell_type": "code",
      "metadata": {
        "id": "2lOmKJC33qua"
      },
      "source": [
        "import monk\n",
        "def monkey_f(self):\n",
        "\tprint (\"monkey_f() is being called\")\n",
        "\n",
        "# replacing address of \"func\" with \"monkey_f\"\n",
        "monk.A.func = monkey_f\n",
        "obj = monk.A()\n",
        "\n",
        "# calling function \"func\" whose address got replaced\n",
        "# with function \"monkey_f()\"\n",
        "obj.func()"
      ],
      "execution_count": null,
      "outputs": []
    },
    {
      "cell_type": "markdown",
      "metadata": {
        "id": "k0rGrjeR32gc"
      },
      "source": [
        "3.\tWhat is the difference between a shallow copy and deep copy?"
      ]
    },
    {
      "cell_type": "markdown",
      "metadata": {
        "id": "xm4E8YBr36BR"
      },
      "source": [
        "Shallow Copy: Shallow repetition is quicker. However, it’s “lazy” it handles pointers and references. Rather than creating a contemporary copy of the particular knowledge the pointer points to, it simply copies over the pointer price. So, each the first and therefore the copy can have pointers that reference constant underlying knowledge.\n",
        "\n",
        "Deep Copy: Deep repetition truly clones the underlying data. It is not shared between the first and therefore the copy."
      ]
    },
    {
      "cell_type": "markdown",
      "metadata": {
        "id": "UqtSUcAqS7VC"
      },
      "source": [
        "SHALLOW COPY\n",
        "\n",
        "1.Shallow Copy stores the references of objects to the original memory address.\n",
        "\n",
        "2.Shallow Copy reflects changes made to the new/copied object in the original object.\n",
        "\n",
        "3.Shallow Copy stores the copy of the original object and points the references to the objects.\n",
        "\n",
        "4.Shallow copy is faster.\n",
        "\n",
        "DEPP COPY\n",
        "\n",
        "1.Deep copy stores copies of the object’s value.\n",
        "\n",
        "2.Deep copy doesn’t reflect changes made to the new/copied object in the original object.\n",
        "\n",
        "3.Deep copy stores the copy of the original object and recursively copies the objects as well.\n",
        "\n",
        "4.Deep copy is comparatively slower.\n",
        "\n",
        "\n"
      ]
    },
    {
      "cell_type": "markdown",
      "metadata": {
        "id": "7WFtvl9VTnUH"
      },
      "source": [
        "4.\tWhat is the maximum possible length of an identifier?"
      ]
    },
    {
      "cell_type": "markdown",
      "metadata": {
        "id": "dr5jsHHJTqzd"
      },
      "source": [
        "79 characters"
      ]
    },
    {
      "cell_type": "markdown",
      "metadata": {
        "id": "A21zaEwCTxq1"
      },
      "source": [
        "5.\tWhat is generator comprehension?"
      ]
    },
    {
      "cell_type": "markdown",
      "metadata": {
        "id": "bSnPiXNHT05r"
      },
      "source": [
        "A generator comprehension is a single-line specification for defining a generator in Python\n"
      ]
    }
  ]
}