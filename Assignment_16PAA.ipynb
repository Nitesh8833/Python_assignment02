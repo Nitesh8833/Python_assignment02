{
  "nbformat": 4,
  "nbformat_minor": 0,
  "metadata": {
    "colab": {
      "name": "Assignment_16PAA.ipynb",
      "provenance": [],
      "collapsed_sections": []
    },
    "kernelspec": {
      "name": "python3",
      "display_name": "Python 3"
    },
    "language_info": {
      "name": "python"
    }
  },
  "cells": [
    {
      "cell_type": "markdown",
      "metadata": {
        "id": "YAvk3bClUWVN"
      },
      "source": [
        "Q1. What is the benefit of regular expressions?"
      ]
    },
    {
      "cell_type": "markdown",
      "metadata": {
        "id": "e3vhgPqjVImF"
      },
      "source": [
        "Regular expressions are used for searching through (usually textual) data. They allow you to search for pieces of text that match a certain form, instead of searching for a piece of text identical to the one you supply"
      ]
    },
    {
      "cell_type": "markdown",
      "metadata": {
        "id": "ytdf9awHcPpo"
      },
      "source": [
        "Q2. Describe the difference between the effects of \"(ab)c+\" and \"a(bc)+.\" Which of these, if any, is the unqualified pattern \"abc+\"?"
      ]
    },
    {
      "cell_type": "markdown",
      "metadata": {
        "id": "u_p0j7YxcVYQ"
      },
      "source": [
        "(ab)c+ =\n",
        "abc\n",
        "\n",
        "abcc\n",
        "\n",
        "abccc\n",
        "\n",
        "abccccc\n",
        "\n",
        "a(bc)+ = \n",
        "\n",
        "abc\n",
        "\n",
        "abcbc\n",
        "\n",
        "abcbc\n",
        "\n",
        "abcbcbc\n",
        "\n",
        "abc+ = \n",
        "\n",
        "abc\n",
        "\n",
        "abcc\n",
        "\n",
        "abccc\n",
        "\n",
        "abcccc\n"
      ]
    },
    {
      "cell_type": "markdown",
      "metadata": {
        "id": "PHCxhSmWjrpa"
      },
      "source": [
        "Q3. How much do you need to use the following sentence while using regular expressions?"
      ]
    },
    {
      "cell_type": "markdown",
      "metadata": {
        "id": "dc5zR19PjvUm"
      },
      "source": [
        "import re"
      ]
    },
    {
      "cell_type": "markdown",
      "metadata": {
        "id": "OTInG_XCkHze"
      },
      "source": [
        "its important for any regular expression to use with importing  re module without we can not use regular expression"
      ]
    },
    {
      "cell_type": "markdown",
      "metadata": {
        "id": "zxVbWUbMlEav"
      },
      "source": [
        "Q4. Which characters have special significance in square brackets when expressing a range, and under what circumstances?"
      ]
    },
    {
      "cell_type": "markdown",
      "metadata": {
        "id": "bKZUiA1plH4T"
      },
      "source": [
        "Square brackets match something that you kind of don't know about a string you're looking for. If you are searching for a name in a string but you're not sure of the exact name you could use instead of that letter a square bracket. Everything you put inside these brackets are alternatives in place of one character\n",
        "\n",
        "Square brackets ([ ]) designate a character class and match a single character in the string. Inside a character class, only the character class metacharacters (backslash, circumflex anchor and hyphen) have special meaning"
      ]
    },
    {
      "cell_type": "markdown",
      "metadata": {
        "id": "d51Ly-g8lyU8"
      },
      "source": [
        "Q5. How does compiling a regular-expression object benefit you?"
      ]
    },
    {
      "cell_type": "markdown",
      "metadata": {
        "id": "aw6ZYYOvl1yF"
      },
      "source": [
        "\n",
        "The purpose of the compile method is to compile the regex pattern which will be used for matching later. It's advisable to compile regex when it'll be used several times in your program. Resaving the resulting regular expression object for reuse, which re. compile does, is more efficient."
      ]
    },
    {
      "cell_type": "markdown",
      "metadata": {
        "id": "IR9rA5y7l2N4"
      },
      "source": [
        "Q6. What are some examples of how to use the match object returned by re.match and re.search?"
      ]
    },
    {
      "cell_type": "code",
      "metadata": {
        "colab": {
          "base_uri": "https://localhost:8080/"
        },
        "id": "JRttJ9t9wTmu",
        "outputId": "ca2b77bd-db97-4985-c0ac-8f31e89e1789"
      },
      "source": [
        "import re\n",
        "\n",
        "pattern = '^N....h$'\n",
        "test_string = 'Nitesh'\n",
        "result = re.match(pattern, test_string)\n",
        "\n",
        "if result:\n",
        "  print(\"Search successful.\")\n",
        "else:\n",
        "  print(\"Search unsuccessful.\")\t"
      ],
      "execution_count": null,
      "outputs": [
        {
          "output_type": "stream",
          "text": [
            "Search successful.\n"
          ],
          "name": "stdout"
        }
      ]
    },
    {
      "cell_type": "code",
      "metadata": {
        "colab": {
          "base_uri": "https://localhost:8080/"
        },
        "id": "3zinEi61w_X0",
        "outputId": "a061aef8-4d75-44e6-fca8-359f7ea8209f"
      },
      "source": [
        "\n",
        "import re\n",
        "\n",
        "string = \"Python is fun\"\n",
        "\n",
        "# check if 'Python' is at the beginning\n",
        "match = re.search('\\APython', string)\n",
        "\n",
        "if match:\n",
        "  print(\"pattern found inside the string\")\n",
        "else:\n",
        "  print(\"pattern not found\")  \n",
        "\n",
        "# Output: pattern found inside the string\n"
      ],
      "execution_count": null,
      "outputs": [
        {
          "output_type": "stream",
          "text": [
            "pattern found inside the string\n"
          ],
          "name": "stdout"
        }
      ]
    },
    {
      "cell_type": "markdown",
      "metadata": {
        "id": "7Dx2xSuul5mU"
      },
      "source": [
        "Q7. What is the difference between using a vertical bar (|) as an alteration and using square brackets as a character set?"
      ]
    },
    {
      "cell_type": "markdown",
      "metadata": {
        "id": "qOGNsA4Yl8NL"
      },
      "source": [
        "The vertical bar is a regex \"or\" means \"a or b\"\n",
        "\n",
        "Square brackets are a character class meaning \"any character from a or b."
      ]
    },
    {
      "cell_type": "markdown",
      "metadata": {
        "id": "spxyhzFOl8-B"
      },
      "source": [
        "Q8. In regular-expression search patterns, why is it necessary to use the raw-string indicator (r)? In   replacement strings?"
      ]
    },
    {
      "cell_type": "markdown",
      "metadata": {
        "id": "Ls8KF8pRl_pA"
      },
      "source": [
        "To ignore the escape character"
      ]
    }
  ]
}