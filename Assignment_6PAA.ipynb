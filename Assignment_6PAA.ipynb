{
  "nbformat": 4,
  "nbformat_minor": 0,
  "metadata": {
    "colab": {
      "name": "Assignment_6PAA.ipynb",
      "provenance": [],
      "collapsed_sections": []
    },
    "kernelspec": {
      "name": "python3",
      "display_name": "Python 3"
    },
    "language_info": {
      "name": "python"
    }
  },
  "cells": [
    {
      "cell_type": "markdown",
      "metadata": {
        "id": "nKna7Tj45WLs"
      },
      "source": [
        "Q1. Describe three applications for exception processing"
      ]
    },
    {
      "cell_type": "markdown",
      "metadata": {
        "id": "xaIdtgcO5XNv"
      },
      "source": [
        "try\n",
        "except\n",
        "finally"
      ]
    },
    {
      "cell_type": "markdown",
      "metadata": {
        "id": "Q0BRXwlY6Hj3"
      },
      "source": [
        "Q2. What happens if you don't do something extra to treat an exception?"
      ]
    },
    {
      "cell_type": "markdown",
      "metadata": {
        "id": "Q53mOL696MMN"
      },
      "source": [
        "it will throw exception and program will not run and cursor come out of program"
      ]
    },
    {
      "cell_type": "markdown",
      "metadata": {
        "id": "rdunn7W86nZr"
      },
      "source": [
        "Q3. What are your options for recovering from an exception in your script?"
      ]
    },
    {
      "cell_type": "markdown",
      "metadata": {
        "id": "0Dvjlx-z6qFk"
      },
      "source": [
        "In these rare instances, Python raises an OutofMemoryError, allowing the script to somehow catch itself and break out of the memory error and recover itself."
      ]
    },
    {
      "cell_type": "markdown",
      "metadata": {
        "id": "Y2Q5KUAp70Hh"
      },
      "source": [
        "Q4. Describe two methods for triggering exceptions in your script."
      ]
    },
    {
      "cell_type": "markdown",
      "metadata": {
        "id": "HkUVUBhB8FLB"
      },
      "source": [
        "raise() allows you to throw an exception at any time. assert enables you to verify if a certain condition is met and throw an exception if it isn't. In the try clause, all statements are executed until an exception is encountered. except is used to catch and handle the exception(s) that are encountered in the try clause."
      ]
    },
    {
      "cell_type": "markdown",
      "metadata": {
        "id": "cripVPHy8kQ3"
      },
      "source": [
        "raise()\n",
        "assert()"
      ]
    },
    {
      "cell_type": "markdown",
      "metadata": {
        "id": "hUMKX4eD8py2"
      },
      "source": [
        "Q5. Identify two methods for specifying actions to be executed at termination time, regardless of whether or not an exception exists."
      ]
    },
    {
      "cell_type": "markdown",
      "metadata": {
        "id": "Ezz_yZkn8vhB"
      },
      "source": [
        "try()\n",
        "finally()"
      ]
    }
  ]
}