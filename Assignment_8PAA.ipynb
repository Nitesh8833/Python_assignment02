{
 "cells": [
  {
   "cell_type": "code",
   "execution_count": null,
   "id": "d0e5a86d",
   "metadata": {},
   "outputs": [],
   "source": [
    "# Q1. What are the two latest user-defined exception constraints in Python 3.X?"
   ]
  },
  {
   "cell_type": "code",
   "execution_count": 1,
   "id": "dbb5ee71",
   "metadata": {},
   "outputs": [],
   "source": [
    "# Ans : 1) raise statement: With the help of raise keyword we can create a user defined exceptions.\n",
    "#       2) assert statement: With the help of the assert keyword we can create an assertion error."
   ]
  },
  {
   "cell_type": "code",
   "execution_count": null,
   "id": "d36446ce",
   "metadata": {},
   "outputs": [],
   "source": [
    "# Q2. How are class-based exceptions that have been raised matched to handlers?"
   ]
  },
  {
   "cell_type": "code",
   "execution_count": 2,
   "id": "8fef4107",
   "metadata": {},
   "outputs": [
    {
     "name": "stdout",
     "output_type": "stream",
     "text": [
      "This is not under the condition\n"
     ]
    }
   ],
   "source": [
    "# Ans : We uses try and except bock for printing out the exceptions we have raised by using raise statement. \n",
    "#       Example is:\n",
    "a=1\n",
    "try:\n",
    "    if a<5:\n",
    "        raise Exception('This is not under the condition')\n",
    "    print('Value if a is: ',a) \n",
    "except Exception as e:\n",
    "    print(e)"
   ]
  },
  {
   "cell_type": "code",
   "execution_count": null,
   "id": "875158af",
   "metadata": {},
   "outputs": [],
   "source": [
    "# Q3. Describe two methods for attaching context information to exception artefacts."
   ]
  },
  {
   "cell_type": "code",
   "execution_count": 3,
   "id": "9d718fae",
   "metadata": {},
   "outputs": [
    {
     "name": "stdout",
     "output_type": "stream",
     "text": [
      "This is not under the condition\n"
     ]
    }
   ],
   "source": [
    "# Ans : Following are the two ways through whcih we can give context information to the exception object. \n",
    "#       Here object is e and we are providing the information to it\n",
    "# First Method : \n",
    "a=1\n",
    "try:\n",
    "    if a<5:\n",
    "        raise Exception('This is not under the condition')\n",
    "    print('Value if a is: ',a)\n",
    "except Exception as e:\n",
    "    print(e)"
   ]
  },
  {
   "cell_type": "code",
   "execution_count": 4,
   "id": "1baa1a22",
   "metadata": {},
   "outputs": [
    {
     "name": "stdout",
     "output_type": "stream",
     "text": [
      "Not applicable\n"
     ]
    }
   ],
   "source": [
    "# Second Method : \n",
    "a=1\n",
    "b=0\n",
    "try:\n",
    "    div=a/b\n",
    "except Exception as e:\n",
    "    print('Not applicable')\n",
    "else:\n",
    "    print(div)"
   ]
  },
  {
   "cell_type": "code",
   "execution_count": null,
   "id": "6d30f0cc",
   "metadata": {},
   "outputs": [],
   "source": [
    "# Q4. Describe two methods for specifying the text of an exception object&#39;s error message."
   ]
  },
  {
   "cell_type": "code",
   "execution_count": 5,
   "id": "05d5be80",
   "metadata": {},
   "outputs": [
    {
     "name": "stdout",
     "output_type": "stream",
     "text": [
      "Error is: division by zero\n"
     ]
    }
   ],
   "source": [
    "# Ans : First way is by :\n",
    "a=1\n",
    "b=0\n",
    "try:\n",
    "    div=a/b\n",
    "except Exception as e:\n",
    "    print(f'Error is: {e}')\n",
    "else:\n",
    "    print(div)"
   ]
  },
  {
   "cell_type": "code",
   "execution_count": 6,
   "id": "4b1a8e87",
   "metadata": {},
   "outputs": [
    {
     "name": "stdout",
     "output_type": "stream",
     "text": [
      "Error is: division by zero\n"
     ]
    }
   ],
   "source": [
    "# Second way is : \n",
    "a=1\n",
    "b=0\n",
    "try:\n",
    "    div=a/b\n",
    "except ZeroDivisionError as e:\n",
    "    print(f'Error is: {e}')"
   ]
  },
  {
   "cell_type": "code",
   "execution_count": null,
   "id": "23ed99e2",
   "metadata": {},
   "outputs": [],
   "source": [
    "# Q5. Why do you no longer use string-based exceptions?"
   ]
  },
  {
   "cell_type": "code",
   "execution_count": 7,
   "id": "3e46dd90",
   "metadata": {},
   "outputs": [],
   "source": [
    "# Ans : String based exceptions are the messages which we give by ourself so that when error occurs then instead of \n",
    "#       original exception error message, we get that message which we have written in the string form. But this has \n",
    "#       some drawback. Suppose an error occured and we wanted to know that which kind or type of error it is, there \n",
    "#       it failed because we have given the customised error message. So even if wanted to change the mistake\n",
    "#       occured associated with that error, will be difficult to rectify."
   ]
  }
 ],
 "metadata": {
  "kernelspec": {
   "display_name": "Python 3",
   "language": "python",
   "name": "python3"
  },
  "language_info": {
   "codemirror_mode": {
    "name": "ipython",
    "version": 3
   },
   "file_extension": ".py",
   "mimetype": "text/x-python",
   "name": "python",
   "nbconvert_exporter": "python",
   "pygments_lexer": "ipython3",
   "version": "3.9.5"
  }
 },
 "nbformat": 4,
 "nbformat_minor": 5
}
