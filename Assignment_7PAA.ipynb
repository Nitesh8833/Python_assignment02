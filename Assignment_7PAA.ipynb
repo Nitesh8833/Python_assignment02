{
 "cells": [
  {
   "cell_type": "code",
   "execution_count": null,
   "id": "5f3be4e1",
   "metadata": {},
   "outputs": [],
   "source": [
    "# Q1. What is the purpose of the try statement?"
   ]
  },
  {
   "cell_type": "code",
   "execution_count": 1,
   "id": "a63e8cfa",
   "metadata": {},
   "outputs": [],
   "source": [
    "# Ans : The purposes of Try statements can be stated as :\n",
    "#       Under try block we write the codes in which there is a chances of exception. \n",
    "#       Whatever the codes is, we write those inside the try block."
   ]
  },
  {
   "cell_type": "code",
   "execution_count": null,
   "id": "66f2f4e8",
   "metadata": {},
   "outputs": [],
   "source": [
    "# Q2. What are the two most popular try statement variations?"
   ]
  },
  {
   "cell_type": "code",
   "execution_count": 2,
   "id": "18aef3d5",
   "metadata": {},
   "outputs": [],
   "source": [
    "# Ans : 1) try with except block: When try fails except will execute. When try passess, except do not execute.\n",
    "#       2) try with except and else: When try will execute then only else block will exceute. \n",
    "#          If try fails then only except block will exceute not else block."
   ]
  },
  {
   "cell_type": "code",
   "execution_count": null,
   "id": "e5504947",
   "metadata": {},
   "outputs": [],
   "source": [
    "# Q3. What is the purpose of the raise statement?"
   ]
  },
  {
   "cell_type": "code",
   "execution_count": 3,
   "id": "956a1500",
   "metadata": {},
   "outputs": [
    {
     "ename": "ValueError",
     "evalue": "Only integers are allowed",
     "output_type": "error",
     "traceback": [
      "\u001b[1;31m---------------------------------------------------------------------------\u001b[0m",
      "\u001b[1;31mValueError\u001b[0m                                Traceback (most recent call last)",
      "\u001b[1;32m<ipython-input-3-064b10ec019a>\u001b[0m in \u001b[0;36m<module>\u001b[1;34m\u001b[0m\n\u001b[0;32m      4\u001b[0m \u001b[0mx\u001b[0m \u001b[1;33m=\u001b[0m \u001b[1;34m\"Bhushan\"\u001b[0m\u001b[1;33m\u001b[0m\u001b[1;33m\u001b[0m\u001b[0m\n\u001b[0;32m      5\u001b[0m \u001b[1;32mif\u001b[0m \u001b[1;32mnot\u001b[0m \u001b[0mtype\u001b[0m\u001b[1;33m(\u001b[0m\u001b[0mx\u001b[0m\u001b[1;33m)\u001b[0m \u001b[1;32mis\u001b[0m \u001b[0mint\u001b[0m\u001b[1;33m:\u001b[0m\u001b[1;33m\u001b[0m\u001b[1;33m\u001b[0m\u001b[0m\n\u001b[1;32m----> 6\u001b[1;33m     \u001b[1;32mraise\u001b[0m \u001b[0mValueError\u001b[0m\u001b[1;33m(\u001b[0m\u001b[1;34m\"Only integers are allowed\"\u001b[0m\u001b[1;33m)\u001b[0m\u001b[1;33m\u001b[0m\u001b[1;33m\u001b[0m\u001b[0m\n\u001b[0m",
      "\u001b[1;31mValueError\u001b[0m: Only integers are allowed"
     ]
    }
   ],
   "source": [
    "# Ans : 'raise' keyword is use for raising out the error by ourself. \n",
    "#       Means we can define the which kind of error we want to raise. We can also simply write down the text \n",
    "#       message to show the user if error encountered\n",
    "x = \"Bhushan\"\n",
    "if not type(x) is int:\n",
    "    raise ValueError(\"Only integers are allowed\")"
   ]
  },
  {
   "cell_type": "code",
   "execution_count": null,
   "id": "5a3debf2",
   "metadata": {},
   "outputs": [],
   "source": [
    "# Q4. What does the assert statement do, and what other statement is it like?"
   ]
  },
  {
   "cell_type": "code",
   "execution_count": 4,
   "id": "27d2f1ba",
   "metadata": {},
   "outputs": [],
   "source": [
    "# Ans : assert statement is for raising assertion error. When any script is not True under the assert keyword, \n",
    "#       it will raise the assertion error. Else it will simply print. Another statement which work the\n",
    "#       same is raise keyword."
   ]
  },
  {
   "cell_type": "code",
   "execution_count": 5,
   "id": "8fa27452",
   "metadata": {},
   "outputs": [
    {
     "ename": "Exception",
     "evalue": "Wrong",
     "output_type": "error",
     "traceback": [
      "\u001b[1;31m---------------------------------------------------------------------------\u001b[0m",
      "\u001b[1;31mException\u001b[0m                                 Traceback (most recent call last)",
      "\u001b[1;32m<ipython-input-5-54669c8cecaa>\u001b[0m in \u001b[0;36m<module>\u001b[1;34m\u001b[0m\n\u001b[0;32m      2\u001b[0m \u001b[0ma\u001b[0m\u001b[1;33m=\u001b[0m\u001b[1;36m10\u001b[0m\u001b[1;33m\u001b[0m\u001b[1;33m\u001b[0m\u001b[0m\n\u001b[0;32m      3\u001b[0m \u001b[1;32mif\u001b[0m \u001b[0ma\u001b[0m\u001b[1;33m==\u001b[0m\u001b[1;36m10\u001b[0m\u001b[1;33m:\u001b[0m\u001b[1;33m\u001b[0m\u001b[1;33m\u001b[0m\u001b[0m\n\u001b[1;32m----> 4\u001b[1;33m     \u001b[1;32mraise\u001b[0m \u001b[0mException\u001b[0m\u001b[1;33m(\u001b[0m\u001b[1;34m'Wrong'\u001b[0m\u001b[1;33m)\u001b[0m\u001b[1;33m\u001b[0m\u001b[1;33m\u001b[0m\u001b[0m\n\u001b[0m",
      "\u001b[1;31mException\u001b[0m: Wrong"
     ]
    }
   ],
   "source": [
    "#raise keyword example :\n",
    "a=10\n",
    "if a==10:\n",
    "    raise Exception('Wrong')"
   ]
  },
  {
   "cell_type": "code",
   "execution_count": 6,
   "id": "8f805c5a",
   "metadata": {},
   "outputs": [
    {
     "ename": "AssertionError",
     "evalue": "Wrong number",
     "output_type": "error",
     "traceback": [
      "\u001b[1;31m---------------------------------------------------------------------------\u001b[0m",
      "\u001b[1;31mAssertionError\u001b[0m                            Traceback (most recent call last)",
      "\u001b[1;32m<ipython-input-6-96d0744bb4b7>\u001b[0m in \u001b[0;36m<module>\u001b[1;34m\u001b[0m\n\u001b[0;32m      1\u001b[0m \u001b[1;31m#assert keyword example\u001b[0m\u001b[1;33m\u001b[0m\u001b[1;33m\u001b[0m\u001b[1;33m\u001b[0m\u001b[0m\n\u001b[0;32m      2\u001b[0m \u001b[0ma\u001b[0m\u001b[1;33m=\u001b[0m\u001b[1;36m10\u001b[0m\u001b[1;33m\u001b[0m\u001b[1;33m\u001b[0m\u001b[0m\n\u001b[1;32m----> 3\u001b[1;33m \u001b[1;32massert\u001b[0m \u001b[0ma\u001b[0m\u001b[1;33m==\u001b[0m\u001b[1;36m1\u001b[0m\u001b[1;33m,\u001b[0m\u001b[1;34m'Wrong number'\u001b[0m\u001b[1;33m\u001b[0m\u001b[1;33m\u001b[0m\u001b[0m\n\u001b[0m\u001b[0;32m      4\u001b[0m \u001b[0mprint\u001b[0m\u001b[1;33m(\u001b[0m\u001b[1;34m'right number'\u001b[0m\u001b[1;33m)\u001b[0m\u001b[1;33m\u001b[0m\u001b[1;33m\u001b[0m\u001b[0m\n",
      "\u001b[1;31mAssertionError\u001b[0m: Wrong number"
     ]
    }
   ],
   "source": [
    "#assert keyword example\n",
    "a=10\n",
    "assert a==1,'Wrong number'\n",
    "print('right number')"
   ]
  },
  {
   "cell_type": "code",
   "execution_count": null,
   "id": "5ac499f8",
   "metadata": {},
   "outputs": [],
   "source": [
    "# Q5. What is the purpose of the with/as argument, and what other statement is it like?"
   ]
  },
  {
   "cell_type": "code",
   "execution_count": 7,
   "id": "b316e106",
   "metadata": {},
   "outputs": [],
   "source": [
    "# Ans : Using with/as statement makes the code much compact and readable. While using with staement we do not need \n",
    "#       to call the file.close() function to close the execution of the resource. The with statement itself ensures \n",
    "#       proper acquisition and release of resources. In try and except block if any file handling operation done \n",
    "#       like reading or writing and there is no with/as statement is used and if there is any error occur then it \n",
    "#       may happen that it prevents the closing of the file due to which several bugs comes into that. So to avoid \n",
    "#       this we use with/as statement, it helps in ensuring that the resource is properly released and code using \n",
    "#       the resource propery till it get executed completly."
   ]
  },
  {
   "cell_type": "code",
   "execution_count": 9,
   "id": "dfa413e9",
   "metadata": {},
   "outputs": [],
   "source": [
    "try:\n",
    "    with open('xyz.txt','w') as file:\n",
    "        file.write('this is a file name xyz')\n",
    "except Exception as e:\n",
    "    print(e)\n",
    "# No ned to write file.close here. With/as statement take care of those hing and beautify the readability of the code."
   ]
  }
 ],
 "metadata": {
  "kernelspec": {
   "display_name": "Python 3",
   "language": "python",
   "name": "python3"
  },
  "language_info": {
   "codemirror_mode": {
    "name": "ipython",
    "version": 3
   },
   "file_extension": ".py",
   "mimetype": "text/x-python",
   "name": "python",
   "nbconvert_exporter": "python",
   "pygments_lexer": "ipython3",
   "version": "3.9.5"
  }
 },
 "nbformat": 4,
 "nbformat_minor": 5
}
