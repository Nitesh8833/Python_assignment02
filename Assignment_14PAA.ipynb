{
  "nbformat": 4,
  "nbformat_minor": 0,
  "metadata": {
    "colab": {
      "name": "Assignment_14PAA.ipynb",
      "provenance": [],
      "collapsed_sections": []
    },
    "kernelspec": {
      "name": "python3",
      "display_name": "Python 3"
    },
    "language_info": {
      "name": "python"
    }
  },
  "cells": [
    {
      "cell_type": "markdown",
      "metadata": {
        "id": "y_X8JLADUSfo"
      },
      "source": [
        "Q1. Is an assignment operator like += only for show? Is it possible that it would lead to faster results at the runtime?"
      ]
    },
    {
      "cell_type": "markdown",
      "metadata": {
        "id": "dyIv6aHckiVl"
      },
      "source": [
        "it would lead to slower result than loop"
      ]
    },
    {
      "cell_type": "markdown",
      "metadata": {
        "id": "DqA09DmOmWLd"
      },
      "source": [
        "Q2. What is the smallest number of statements you'd have to write in most programming languages to replace the Python expression a, b = a + b, a?"
      ]
    },
    {
      "cell_type": "code",
      "metadata": {
        "id": "ePqYPRzFpoJ2"
      },
      "source": [
        "a, b = a + b, a"
      ],
      "execution_count": null,
      "outputs": []
    },
    {
      "cell_type": "markdown",
      "metadata": {
        "id": "cEdMSXkkqM4i"
      },
      "source": [
        "Q3. In Python, what is the most effective way to set a list of 100 integers to 0?"
      ]
    },
    {
      "cell_type": "code",
      "metadata": {
        "colab": {
          "base_uri": "https://localhost:8080/"
        },
        "id": "7fMOVSsArtee",
        "outputId": "2bce42b9-abee-40df-ba2e-0e98a728e747"
      },
      "source": [
        "my_list = [0] * 100\n",
        "print(my_list)"
      ],
      "execution_count": null,
      "outputs": [
        {
          "output_type": "stream",
          "text": [
            "[0, 0, 0, 0, 0, 0, 0, 0, 0, 0, 0, 0, 0, 0, 0, 0, 0, 0, 0, 0, 0, 0, 0, 0, 0, 0, 0, 0, 0, 0, 0, 0, 0, 0, 0, 0, 0, 0, 0, 0, 0, 0, 0, 0, 0, 0, 0, 0, 0, 0, 0, 0, 0, 0, 0, 0, 0, 0, 0, 0, 0, 0, 0, 0, 0, 0, 0, 0, 0, 0, 0, 0, 0, 0, 0, 0, 0, 0, 0, 0, 0, 0, 0, 0, 0, 0, 0, 0, 0, 0, 0, 0, 0, 0, 0, 0, 0, 0, 0, 0]\n"
          ],
          "name": "stdout"
        }
      ]
    },
    {
      "cell_type": "markdown",
      "metadata": {
        "id": "6jMh-nzlrL8q"
      },
      "source": [
        "Q4. What is the most effective way to initialise a list of 99 integers that repeats the sequence 1, 2, 3? S If necessary, show step-by-step instructions on how to accomplish this."
      ]
    },
    {
      "cell_type": "code",
      "metadata": {
        "colab": {
          "base_uri": "https://localhost:8080/"
        },
        "id": "8pUSJmWYsmK-",
        "outputId": "fc3b0399-03a2-4504-e871-4d3162809b33"
      },
      "source": [
        "my_list = [1 + i for i in range(99)]\n",
        "print(my_list)"
      ],
      "execution_count": null,
      "outputs": [
        {
          "output_type": "stream",
          "text": [
            "[1, 2, 3, 4, 5, 6, 7, 8, 9, 10, 11, 12, 13, 14, 15, 16, 17, 18, 19, 20, 21, 22, 23, 24, 25, 26, 27, 28, 29, 30, 31, 32, 33, 34, 35, 36, 37, 38, 39, 40, 41, 42, 43, 44, 45, 46, 47, 48, 49, 50, 51, 52, 53, 54, 55, 56, 57, 58, 59, 60, 61, 62, 63, 64, 65, 66, 67, 68, 69, 70, 71, 72, 73, 74, 75, 76, 77, 78, 79, 80, 81, 82, 83, 84, 85, 86, 87, 88, 89, 90, 91, 92, 93, 94, 95, 96, 97, 98, 99]\n"
          ],
          "name": "stdout"
        }
      ]
    },
    {
      "cell_type": "markdown",
      "metadata": {
        "id": "hp8ktTa-tCd-"
      },
      "source": [
        "Q5. If you're using IDLE to run a Python application, explain how to print a multidimensional list as efficiently?"
      ]
    },
    {
      "cell_type": "markdown",
      "metadata": {
        "id": "WkPI6i2mtE3v"
      },
      "source": [
        "Q6. Is it possible to use list comprehension with a string? If so, how can you go about doing it?"
      ]
    },
    {
      "cell_type": "code",
      "metadata": {
        "colab": {
          "base_uri": "https://localhost:8080/"
        },
        "id": "T9hfPHDQt_Kt",
        "outputId": "a571b112-a11d-43ce-9e9e-4b69ed166c52"
      },
      "source": [
        "comp = [ letter for letter in 'Nitesh' ]\n",
        "print(comp)"
      ],
      "execution_count": null,
      "outputs": [
        {
          "output_type": "stream",
          "text": [
            "['N', 'i', 't', 'e', 's', 'h']\n"
          ],
          "name": "stdout"
        }
      ]
    },
    {
      "cell_type": "markdown",
      "metadata": {
        "id": "l21SuLe0uTV8"
      },
      "source": [
        "Q7. From the command line, how do you get support with a user-written Python programme? Is this possible from inside IDLE?"
      ]
    },
    {
      "cell_type": "markdown",
      "metadata": {
        "id": "GFEpIc6PvEt9"
      },
      "source": [
        "yes"
      ]
    },
    {
      "cell_type": "markdown",
      "metadata": {
        "id": "LK8nqzxrvYwk"
      },
      "source": [
        "Q8. Functions are said to be “first-class objects” in Python but not in most other languages, such as C++ or Java. What can you do in Python with a function (callable object) that you can't do in C or C++?"
      ]
    },
    {
      "cell_type": "markdown",
      "metadata": {
        "id": "dCa_YEaftjuo"
      },
      "source": [
        "we can assign a function to variable in python"
      ]
    },
    {
      "cell_type": "markdown",
      "metadata": {
        "id": "HVW93LiCwv4_"
      },
      "source": [
        "Q9. How do you distinguish between a wrapper, a wrapped feature, and a decorator?"
      ]
    },
    {
      "cell_type": "markdown",
      "metadata": {
        "id": "14AButf0wzQd"
      },
      "source": [
        "Decorator:-\n",
        "\n",
        "Allows objects to be composed/add capabilities by wrapping them with a class with the same interface\n",
        "\n",
        "\n",
        "Wrapper:\n",
        "Never heard of this as a design pattern, but I suppose it's just a common name for the above\n",
        "\n",
        "The example you specify I would categorize as a decorator: The CacheRepository decorates an IRepository to add caching capabilities.\n",
        "\n",
        "\n",
        "Wrappers around the functions are also knows as decorators which are a very powerful and useful tool in Python since it allows programmers to modify the behavior of function or class"
      ]
    },
    {
      "cell_type": "markdown",
      "metadata": {
        "id": "iyElVQpmx5kG"
      },
      "source": [
        "Q10. If a function is a generator function, what does it return?"
      ]
    },
    {
      "cell_type": "markdown",
      "metadata": {
        "id": "pxxyLi1Wx8_G"
      },
      "source": [
        "Generator function returns an object (iterator) which we can iterate over (one value at a time)."
      ]
    },
    {
      "cell_type": "markdown",
      "metadata": {
        "id": "U6UAcorBynga"
      },
      "source": [
        "Q11. What is the one improvement that must be made to a function in order for it to become a generator function in the Python language?"
      ]
    },
    {
      "cell_type": "markdown",
      "metadata": {
        "id": "2BP1EZE0yp4c"
      },
      "source": [
        "To creatye a generator function in python we can use **yield** statement instead of return statement "
      ]
    },
    {
      "cell_type": "markdown",
      "metadata": {
        "id": "7sCsR3TvznlR"
      },
      "source": [
        "Q12. Identify at least one benefit of generators."
      ]
    },
    {
      "cell_type": "markdown",
      "metadata": {
        "id": "g6hm3eeWzs9f"
      },
      "source": [
        "Generator functions allow you to declare a function that behaves like an iterator. They allow programmers to make an iterator in a fast, easy, and clean way"
      ]
    }
  ]
}