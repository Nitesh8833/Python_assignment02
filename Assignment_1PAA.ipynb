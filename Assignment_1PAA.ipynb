{
  "nbformat": 4,
  "nbformat_minor": 0,
  "metadata": {
    "colab": {
      "name": "Assignment_1PAA.ipynb",
      "provenance": [],
      "collapsed_sections": []
    },
    "kernelspec": {
      "name": "python3",
      "display_name": "Python 3"
    },
    "language_info": {
      "name": "python"
    }
  },
  "cells": [
    {
      "cell_type": "markdown",
      "metadata": {
        "id": "4jXZ2kFEGqLB"
      },
      "source": [
        "Q1. What is the purpose of Python's OOP?"
      ]
    },
    {
      "cell_type": "markdown",
      "metadata": {
        "id": "zZtKYmCrqvLL"
      },
      "source": [
        "Object-oriented programming (OOP) is a method of structuring a program by bundling related properties and behaviors into individual objects. \n",
        "\n",
        "\n",
        "objects are like the components of a system. Think of a program as a factory assembly line of sorts. At each step of the assembly line a system component processes some material, ultimately transforming raw material into a finished product.\n",
        "\n",
        "An object contains data, like the raw or preprocessed materials at each step on an assembly line, and behavior, like the action each assembly line component performs."
      ]
    },
    {
      "cell_type": "markdown",
      "metadata": {
        "id": "VHaj_WIXuOH_"
      },
      "source": [
        "Q2. Where does an inheritance search look for an attribute?"
      ]
    },
    {
      "cell_type": "markdown",
      "metadata": {
        "id": "eJbvyHqAucIO"
      },
      "source": [
        "the inheritance search is simply a search of the tree from bottom to top looking for the lowest occurrence of an attribute name\n",
        "code implies the shape of such trees\n"
      ]
    },
    {
      "cell_type": "markdown",
      "metadata": {
        "id": "5ZZTNIKVvbXM"
      },
      "source": [
        "Q3. How do you distinguish between a class object and an instance object?"
      ]
    },
    {
      "cell_type": "markdown",
      "metadata": {
        "id": "WeQJD66AveIq"
      },
      "source": [
        "The class = the blue print. The Object is an actual thing that is built based on the ‘blue print’. An instance is a virtual copy (but not a real copy) of the object."
      ]
    },
    {
      "cell_type": "markdown",
      "metadata": {
        "id": "VH9jKNnZwXGK"
      },
      "source": [
        "Q4. What makes the first argument in a class’s method function special?"
      ]
    },
    {
      "cell_type": "markdown",
      "metadata": {
        "id": "PfZH-aHFwbtu"
      },
      "source": [
        "The calling process is automatic while the receiving process is not (its explicit). This is the reason the first parameter of a function in class must be the object itself. Writing this parameter as self is merely a convention. It is not a keyword and has no special meaning in Python.\n"
      ]
    },
    {
      "cell_type": "markdown",
      "metadata": {
        "id": "b50-1hzw291T"
      },
      "source": [
        "Q5. What is the purpose of the __init__ method?"
      ]
    },
    {
      "cell_type": "markdown",
      "metadata": {
        "id": "5c5foDQi2-yj"
      },
      "source": [
        " The method is useful to do any initialization you want to do with your object.\n",
        " The __init__ method is  used to initialize the object’s state\n",
        "\n",
        "\n",
        "\n"
      ]
    },
    {
      "cell_type": "markdown",
      "metadata": {
        "id": "1uTFYyETNAoM"
      },
      "source": [
        "Q6. What is the process for creating a class instance?"
      ]
    },
    {
      "cell_type": "code",
      "metadata": {
        "colab": {
          "base_uri": "https://localhost:8080/"
        },
        "id": "LtwyDpXrQooh",
        "outputId": "68bb5a43-cad3-48e8-8b99-a0f81beca7a6"
      },
      "source": [
        "class Employee:\n",
        "  empCount = 0\n",
        "\n",
        "  def __init__(self,name,designation):\n",
        "    self.name = name\n",
        "    self.designation = designation\n",
        "    Employee.empCount += 1\n",
        "  \n",
        "p1 = Employee('Rakesh','Developer') # it is a class instance\n",
        "\n",
        "print(p1.name)\n",
        "\n",
        "  "
      ],
      "execution_count": null,
      "outputs": [
        {
          "output_type": "stream",
          "text": [
            "Rakesh\n"
          ],
          "name": "stdout"
        }
      ]
    },
    {
      "cell_type": "markdown",
      "metadata": {
        "id": "TwIll9ecTs8d"
      },
      "source": [
        "Q7. What is the process for creating a class?"
      ]
    },
    {
      "cell_type": "code",
      "metadata": {
        "colab": {
          "base_uri": "https://localhost:8080/"
        },
        "id": "68hW_RErT42V",
        "outputId": "9405524f-d555-467e-9cec-579942851a37"
      },
      "source": [
        "class NewClass:\n",
        "  n = 5\n",
        "\n",
        "print(NewClass())"
      ],
      "execution_count": null,
      "outputs": [
        {
          "output_type": "stream",
          "text": [
            "<__main__.NewClass object at 0x7fec16a18f90>\n"
          ],
          "name": "stdout"
        }
      ]
    },
    {
      "cell_type": "markdown",
      "metadata": {
        "id": "Qs1f6uWJUsFp"
      },
      "source": [
        "Q8. How would you define the superclasses of a class?"
      ]
    },
    {
      "cell_type": "code",
      "metadata": {
        "id": "y9e4iFV8Z9bk"
      },
      "source": [
        "super() is a built-in method which is useful to call the super class constructors,variables and \n",
        "methods from the child class.\n"
      ],
      "execution_count": null,
      "outputs": []
    },
    {
      "cell_type": "code",
      "metadata": {
        "colab": {
          "base_uri": "https://localhost:8080/"
        },
        "id": "NTxnDmjy5dnG",
        "outputId": "3b3f6553-53c6-4241-8e56-6b02e932ba58"
      },
      "source": [
        "class Person:\n",
        "  def __init__(self,name,age):\n",
        "    self.name=name \n",
        "    self.age=age\n",
        "  def display(self):\n",
        "    print('Name:',self.name)\n",
        "    print('Age:',self.age) \n",
        " \n",
        "class Student(Person):\n",
        "  def __init__(self,name,age,rollno,marks):\n",
        "    super().__init__(name,age)\n",
        "    self.rollno=rollno \n",
        "    self.marks=marks \n",
        " \n",
        "  def display(self):\n",
        "    super().display()\n",
        "    print('Roll No:',self.rollno)\n",
        "    print('Marks:',self.marks) \n",
        " \n",
        "s1=Student('Ramesh',22,101,90)\n",
        "s1.display() "
      ],
      "execution_count": null,
      "outputs": [
        {
          "output_type": "stream",
          "text": [
            "Name: Ramesh\n",
            "Age: 22\n",
            "Roll No: 101\n",
            "Marks: 90\n"
          ],
          "name": "stdout"
        }
      ]
    },
    {
      "cell_type": "markdown",
      "metadata": {
        "id": "zvAfuUEZ6xsz"
      },
      "source": [
        ""
      ]
    }
  ]
}