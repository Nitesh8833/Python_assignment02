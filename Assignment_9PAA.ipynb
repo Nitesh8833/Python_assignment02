{
  "nbformat": 4,
  "nbformat_minor": 0,
  "metadata": {
    "colab": {
      "name": "Assignment_9PAA.ipynb",
      "provenance": [],
      "collapsed_sections": []
    },
    "kernelspec": {
      "name": "python3",
      "display_name": "Python 3"
    },
    "language_info": {
      "name": "python"
    }
  },
  "cells": [
    {
      "cell_type": "markdown",
      "metadata": {
        "id": "Gw8668Stu4Pl"
      },
      "source": [
        "Q1. In Python 3.X, what are the names and functions of string object types?"
      ]
    },
    {
      "cell_type": "markdown",
      "metadata": {
        "id": "vFdI423vXjCI"
      },
      "source": [
        "String capitalize()\n",
        "\n",
        "String center()\n",
        "\n",
        "String casefold()\n",
        "\n",
        "Python String count()\n",
        "\n",
        "Python String encode()\n",
        "\n",
        "Python String endswith()\n",
        "\n",
        "Python String expandtabs()\n",
        "\n",
        "Python String find()\n",
        "\n",
        "Python String format()\n",
        "\n",
        "Python String format_map()\n",
        "\n",
        "Python String index()\n",
        "\n",
        "Python String isalnum()\n",
        "\n",
        "Python String isalpha()\n",
        "\n",
        "Python String isdecimal()\n",
        "\n",
        "Python String isdigit()\n",
        "\n",
        "Python String isidentifier()\n",
        "\n",
        "Python String islower()\n",
        "\n",
        "Python String isnumeric()\n",
        "\n",
        "Python String isprintable()"
      ]
    },
    {
      "cell_type": "markdown",
      "metadata": {
        "id": "8nts7noMb9Dz"
      },
      "source": [
        "Q3. In 3.X, how do you put non-ASCII Unicode characters in a string?"
      ]
    },
    {
      "cell_type": "code",
      "metadata": {
        "colab": {
          "base_uri": "https://localhost:8080/"
        },
        "id": "S4movS2BdyS_",
        "outputId": "2fcec52a-24af-4902-d8dd-bf32ed029ca7"
      },
      "source": [
        "string_nonASCII = \" àa fuünny charactersß. \"\n",
        "string_encode = string_nonASCII.encode(\"ascii\", \"ignore\")\n",
        "string_decode = string_encode.decode()\n",
        "print(string_decode)"
      ],
      "execution_count": null,
      "outputs": [
        {
          "output_type": "stream",
          "text": [
            " a funny characters. \n"
          ],
          "name": "stdout"
        }
      ]
    },
    {
      "cell_type": "markdown",
      "metadata": {
        "id": "wBcPcL5Ed8Js"
      },
      "source": [
        "Q4. In Python 3.X, what are the key differences between text-mode and binary-mode files?"
      ]
    },
    {
      "cell_type": "markdown",
      "metadata": {
        "id": "Vut6WobDePR4"
      },
      "source": [
        "Text files are special subset of binary files that are used to store human readable characters as a rich text document or plain text document. Text files also store data in sequential bytes but bits in text file represents characters.\n",
        "\n",
        "\n",
        "Binary file are those typical files that store data in the form of sequence of bytes grouped into eight bits or sometimes sixteen bits. These bits represent custom data and such files can store multiple types of data (images, audio, text, etc) under a single file."
      ]
    },
    {
      "cell_type": "markdown",
      "metadata": {
        "id": "UAAu7G6we1by"
      },
      "source": [
        "Q5. How can you interpret a Unicode text file containing text encoded in a different encoding than your platform's default?"
      ]
    },
    {
      "cell_type": "markdown",
      "metadata": {
        "id": "Aw_0A53honxu"
      },
      "source": [
        "we can change the character encoding of text"
      ]
    },
    {
      "cell_type": "markdown",
      "metadata": {
        "id": "VoQDM__ve41b"
      },
      "source": [
        "Q6. What is the best way to make a Unicode text file in a particular encoding format?"
      ]
    },
    {
      "cell_type": "code",
      "metadata": {
        "id": "hAHuC2wEomXe"
      },
      "source": [
        "unicode_text = u'ʑʒʓʔʕʗʘʙʚʛʜʝʞ'\n",
        "encoded_unicode = unicode_text.encode(\"utf8\")\n",
        "\n",
        "a_file = open(\"textfile.txt\", \"wb\")\n",
        "a_file.write(encoded_unicode)\n",
        "\n",
        "a_file = open(\"textfile.txt\", \"r\")\n",
        "r reads contents of a file\n",
        "\n",
        "contents = a_file.read()\n",
        "\n",
        "print(contents)"
      ],
      "execution_count": null,
      "outputs": []
    },
    {
      "cell_type": "markdown",
      "metadata": {
        "id": "BRGjQOpIn1IE"
      },
      "source": [
        "Q7. What qualifies ASCII text as a form of Unicode text?"
      ]
    },
    {
      "cell_type": "markdown",
      "metadata": {
        "id": "9J8NJCghnjCB"
      },
      "source": [
        "ASCII is a character encoding standard for electronic communication. ASCII codes represent text in computers, telecommunications equipment, and other devices.\n",
        "\n",
        "Unicode is a standard for encoding character. Unicode string is a python data structure that can store zero or more unicode characters. Unicode string is designed to store text data.\n"
      ]
    },
    {
      "cell_type": "markdown",
      "metadata": {
        "id": "Ey-_N9_Lq5mR"
      },
      "source": [
        "Q8. How much of an effect does the change in string types in Python 3.X have on your code?"
      ]
    },
    {
      "cell_type": "markdown",
      "metadata": {
        "id": "brmnTNeMq7i1"
      },
      "source": [
        "they will throw error or Output will be completely changed the meaning"
      ]
    }
  ]
}