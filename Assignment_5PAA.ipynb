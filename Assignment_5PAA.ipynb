{
  "nbformat": 4,
  "nbformat_minor": 0,
  "metadata": {
    "colab": {
      "name": "Assignment_5PAA.ipynb",
      "provenance": [],
      "collapsed_sections": []
    },
    "kernelspec": {
      "name": "python3",
      "display_name": "Python 3"
    },
    "language_info": {
      "name": "python"
    }
  },
  "cells": [
    {
      "cell_type": "markdown",
      "metadata": {
        "id": "GEDMdWxU2oWk"
      },
      "source": [
        "Q1. What is the meaning of multiple inheritance?"
      ]
    },
    {
      "cell_type": "markdown",
      "metadata": {
        "id": "BKglXaat2_s7"
      },
      "source": [
        "A class can be derived from more than one base class in Python. This is called multiple inheritance"
      ]
    },
    {
      "cell_type": "code",
      "metadata": {
        "colab": {
          "base_uri": "https://localhost:8080/"
        },
        "id": "q_cwm6993q2Q",
        "outputId": "aab391d9-4060-4160-e28a-a82a16cb4ab0"
      },
      "source": [
        "class Parent1:\n",
        "    pass\n",
        "\n",
        "class Parent2:\n",
        "    pass\n",
        "\n",
        "class MultiDerived(Parent1, Parent2):\n",
        "    pass\n",
        "\n",
        "MultiDerived()"
      ],
      "execution_count": null,
      "outputs": [
        {
          "output_type": "execute_result",
          "data": {
            "text/plain": [
              "<__main__.MultiDerived at 0x7fa1a0e55790>"
            ]
          },
          "metadata": {
            "tags": []
          },
          "execution_count": 4
        }
      ]
    },
    {
      "cell_type": "markdown",
      "metadata": {
        "id": "fhjiu2sY4HJj"
      },
      "source": [
        "Q2. What is the concept of delegation?"
      ]
    },
    {
      "cell_type": "markdown",
      "metadata": {
        "id": "6_TgnPNh4Kxd"
      },
      "source": [
        "Delegation is an object oriented technique (also called a design pattern). Let's say you have an object x and want to change the behaviour of just one of its methods. You can create a new class that provides a new implementation of the method you're interested in changing and delegates all other methods to the corresponding method of x."
      ]
    },
    {
      "cell_type": "markdown",
      "metadata": {
        "id": "BD0s3ker6nCd"
      },
      "source": [
        "Q3. What is the concept of composition?"
      ]
    },
    {
      "cell_type": "markdown",
      "metadata": {
        "id": "ihjZ3BeA6qNd"
      },
      "source": [
        "we will describe a class that references to one or more objects of other classes as an Instance variable. Here, by using the class name or by creating the object we can access the members of one class inside another class. It enables creating complex types by combining objects of different classes. It means that a class Composite can contain an object of another class Component. This type of relationship is known as Has-A Relation."
      ]
    },
    {
      "cell_type": "code",
      "metadata": {
        "id": "0K6XmF4VwrGy"
      },
      "source": [
        "class Component:\n",
        "  \n",
        "   # composite class constructor\n",
        "    def __init__(self):\n",
        "        print('Component class object created...')\n",
        "  \n",
        "    # composite class instance method\n",
        "    def m1(self):\n",
        "        print('Component class m1() method executed...')\n",
        "  \n",
        "  \n",
        "class Composite:\n",
        "  \n",
        "    # composite class constructor\n",
        "    def __init__(self):\n",
        "  \n",
        "        # creating object of component class\n",
        "        self.obj1 = Component()\n",
        "          \n",
        "        print('Composite class object also created...')\n",
        "  \n",
        "     # composite class instance method\n",
        "    def m2(self):\n",
        "        \n",
        "        print('Composite class m2() method executed...')\n",
        "  \n",
        "        # calling m1() method of component class\n",
        "        self.obj1.m1()\n",
        "  \n",
        "  \n",
        "# creating object of composite class\n",
        "obj2 = Composite()\n",
        "  \n",
        "# calling m2() method of composite class\n",
        "obj2.m2()"
      ],
      "execution_count": null,
      "outputs": []
    },
    {
      "cell_type": "markdown",
      "metadata": {
        "id": "oBCQ7Q9Uw2Rg"
      },
      "source": [
        "Q4. What are bound methods and how do we use them?"
      ]
    },
    {
      "cell_type": "markdown",
      "metadata": {
        "id": "IvZGHIqmw5CZ"
      },
      "source": [
        "A bound method is the one which is dependent on the instance of the class as the first argument. It passes the instance as the first argument which is used to access the variables and functions. In Python 3 and newer versions of python, all functions in the class are by default bound methods."
      ]
    },
    {
      "cell_type": "code",
      "metadata": {
        "id": "KfJAEoGVxKD7"
      },
      "source": [
        "# Python code to demonstrate\n",
        "# use of bound methods\n",
        "\n",
        "class A:\n",
        "\n",
        "\tdef func(self, arg):\n",
        "\t\tself.arg = arg\n",
        "\t\tprint(\"Value of arg = \", arg)\n",
        "\n",
        "\n",
        "# Creating an instance\n",
        "obj = A()\n",
        "\n",
        "# bound method\n",
        "print(obj.func)\n"
      ],
      "execution_count": null,
      "outputs": []
    },
    {
      "cell_type": "markdown",
      "metadata": {
        "id": "zAX3QKX2xOFf"
      },
      "source": [
        "Q5. What is the purpose of pseudoprivate attributes?"
      ]
    },
    {
      "cell_type": "markdown",
      "metadata": {
        "id": "oAPMwT6exTsI"
      },
      "source": [
        "The problem that the pseudo-private attribute feature is meant to alleviate has to do with the way instance attributes are stored. In Python, all instance attributes wind up in the single instance object at the bottom of the class tree\n",
        "\n",
        "\n",
        "Within a class method in Python, whenever a method assigns to a self attribute (e.g., self.attr=value), it changes or creates an attribute in the instance (inheritance search only happens on reference, not assignment). Because this is true even if multiple classes in a hierarchy assign to the same attribute, collisions are possible."
      ]
    },
    {
      "cell_type": "code",
      "metadata": {
        "id": "JWq7g4VB0zWS"
      },
      "source": [
        "class C1:\n",
        "  def meth1(self):\n",
        "    self.X = 88         \n",
        "    # Assume X is mine.     \n",
        "  def meth2(self):\n",
        "    print(self.X)"
      ],
      "execution_count": null,
      "outputs": []
    }
  ]
}