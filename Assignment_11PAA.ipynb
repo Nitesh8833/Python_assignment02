{
 "cells": [
  {
   "cell_type": "code",
   "execution_count": null,
   "id": "696ff319",
   "metadata": {},
   "outputs": [],
   "source": [
    "# Q1. What is the concept of a metaclass?"
   ]
  },
  {
   "cell_type": "code",
   "execution_count": 1,
   "id": "0b6b48de",
   "metadata": {},
   "outputs": [],
   "source": [
    "# Ans : In object-oriented programming, a metaclass is a class whose instances are classes. Just as an ordinary class \n",
    "#       defines the behavior of certain objects, a metaclass defines the behavior of certain classes and their \n",
    "#       instances. A class is itself an instance of a metaclass."
   ]
  },
  {
   "cell_type": "code",
   "execution_count": null,
   "id": "1015d89e",
   "metadata": {},
   "outputs": [],
   "source": [
    "# Q2. What is the best way to declare a class&#39;s metaclass?"
   ]
  },
  {
   "cell_type": "code",
   "execution_count": null,
   "id": "01b5e16d",
   "metadata": {},
   "outputs": [],
   "source": [
    "# Ans : type is a default metaclass in python. But we can create a meta class in the following way:\n",
    "class meta_class(type):\n",
    "    pass\n",
    "class ineuron(metaclass=meta_class):\n",
    "    pass"
   ]
  },
  {
   "cell_type": "code",
   "execution_count": 4,
   "id": "6ad3e90c",
   "metadata": {},
   "outputs": [
    {
     "data": {
      "text/plain": [
       "__main__.meta_class"
      ]
     },
     "execution_count": 4,
     "metadata": {},
     "output_type": "execute_result"
    }
   ],
   "source": [
    "type(ineuron)\n",
    "# So here ineuron was a class but now it is an instance for meta_class class"
   ]
  },
  {
   "cell_type": "code",
   "execution_count": null,
   "id": "62feb2f1",
   "metadata": {},
   "outputs": [],
   "source": [
    "# Q3. How do class decorators overlap with metaclasses for handling classes?"
   ]
  },
  {
   "cell_type": "code",
   "execution_count": 5,
   "id": "c3cf1b0a",
   "metadata": {},
   "outputs": [],
   "source": [
    "# Ans : Anything which we can do with a class decorator, can be done with a custom metaclass. We just need to apply \n",
    "#       the functionality of the \"decorator function\", i.e., the one that takes a class object and modifies it, in the \n",
    "#       course of the metaclass's new or init that make the class object. Decorartors rebind a class name to a result \n",
    "#       which could be called and metaclass route the class creation through a callable object but both hooks can be\n",
    "#       used for similar class objects. Meta class augment a class after they create it. Decorator simply augment and \n",
    "#       return the original class object. Decorators may have a slight disadvantage in this role if a new class must \n",
    "#       be defined because original class has been already created."
   ]
  },
  {
   "cell_type": "code",
   "execution_count": null,
   "id": "a5524203",
   "metadata": {},
   "outputs": [],
   "source": [
    "# Q4. How do class decorators overlap with metaclasses for handling instances?"
   ]
  },
  {
   "cell_type": "code",
   "execution_count": null,
   "id": "23b61f4b",
   "metadata": {},
   "outputs": [],
   "source": [
    "# Ans : We can use both class decorator and metaclasses to manage class instances by inserting a wrapper object to \n",
    "#       catch the instance creation calls. Decorators may rebind the class name to a cllabale run on instance creation\n",
    "#       that retains the original class object. Metaclasses can also do the same but they might have some disadvantage\n",
    "#       as they need to create a new object for that."
   ]
  }
 ],
 "metadata": {
  "kernelspec": {
   "display_name": "Python 3",
   "language": "python",
   "name": "python3"
  },
  "language_info": {
   "codemirror_mode": {
    "name": "ipython",
    "version": 3
   },
   "file_extension": ".py",
   "mimetype": "text/x-python",
   "name": "python",
   "nbconvert_exporter": "python",
   "pygments_lexer": "ipython3",
   "version": "3.9.5"
  }
 },
 "nbformat": 4,
 "nbformat_minor": 5
}
