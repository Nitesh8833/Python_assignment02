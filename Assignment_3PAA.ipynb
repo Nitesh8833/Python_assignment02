{
 "cells": [
  {
   "cell_type": "raw",
   "id": "3c8f68a1",
   "metadata": {},
   "source": [
    "# 1. What is the concept of an abstract superclass?"
   ]
  },
  {
   "cell_type": "code",
   "execution_count": 1,
   "id": "019bebd4",
   "metadata": {},
   "outputs": [],
   "source": [
    "# Ans : Abstract classes are classes that contain one or more abstract methods. An abstract method is a method that \n",
    "#       is declared, but contains no implementation. Abstract classes cannot be instantiated, and require subclasses\n",
    "#       to provide implementations for the abstract methods."
   ]
  },
  {
   "cell_type": "raw",
   "id": "75d641e3",
   "metadata": {},
   "source": [
    "# 2. What happens when a class statement's top level contains a basic assignment statement?"
   ]
  },
  {
   "cell_type": "code",
   "execution_count": 2,
   "id": "a10a7d43",
   "metadata": {},
   "outputs": [],
   "source": [
    "# Ans : An assignment statement evaluates the expression list (remember that this can be a single expression or a \n",
    "#       comma-separated list, the latter yielding a tuple) and assigns the single resulting object to each of the \n",
    "#       target lists, from left to right."
   ]
  },
  {
   "cell_type": "raw",
   "id": "a7dc89b6",
   "metadata": {},
   "source": [
    "# 3. Why does a class need to manually call a superclass's __init__ method?"
   ]
  },
  {
   "cell_type": "code",
   "execution_count": 3,
   "id": "6241e9ac",
   "metadata": {},
   "outputs": [],
   "source": [
    "# Ans : It's because one needs to define something that is NOT done in the base-class' __init__ , and the only \n",
    "#       possibility to obtain that is to put its execution in a derived-class' __init__ function."
   ]
  },
  {
   "cell_type": "raw",
   "id": "26ffcfcc",
   "metadata": {},
   "source": [
    "# 4. How can you augment, instead of completely replacing, an inherited method?"
   ]
  },
  {
   "cell_type": "code",
   "execution_count": 4,
   "id": "b2a4a39c",
   "metadata": {},
   "outputs": [],
   "source": [
    "# Ans : A subclass can either completely override the implementation for an inherited method or the subclass can \n",
    "#       enhance the method by adding functionality to it. Replacing a Superclass's Method Implementation\n",
    "#       Sometimes, a subclass will want to replace entirely its superclass's implementation of a method. \n",
    "#       Indeed, many superclasses provide an empty method implementation with the expectation that most, if not all, \n",
    "#       subclasses will completely replace the superclass's implementation of the method."
   ]
  },
  {
   "cell_type": "raw",
   "id": "f82b70f8",
   "metadata": {},
   "source": [
    "# 5. How is the local scope of a class different from that of a function? "
   ]
  },
  {
   "cell_type": "code",
   "execution_count": null,
   "id": "3189dc5a",
   "metadata": {},
   "outputs": [],
   "source": [
    "# Ans : Functions do specific things, classes are specific things. Classes often have methods, which are functions \n",
    "#       that are associated with a particular class, and do things associated with the thing that the class is - but \n",
    "#       if all you want is to do something, a function is all you need."
   ]
  }
 ],
 "metadata": {
  "kernelspec": {
   "display_name": "Python 3",
   "language": "python",
   "name": "python3"
  },
  "language_info": {
   "codemirror_mode": {
    "name": "ipython",
    "version": 3
   },
   "file_extension": ".py",
   "mimetype": "text/x-python",
   "name": "python",
   "nbconvert_exporter": "python",
   "pygments_lexer": "ipython3",
   "version": "3.9.5"
  }
 },
 "nbformat": 4,
 "nbformat_minor": 5
}
