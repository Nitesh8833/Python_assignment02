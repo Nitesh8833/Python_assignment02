{
 "cells": [
  {
   "cell_type": "code",
   "execution_count": null,
   "id": "c821bb2b",
   "metadata": {},
   "outputs": [],
   "source": [
    "# Q1. Which two operator overloading methods can you use in your classes to support iteration?"
   ]
  },
  {
   "cell_type": "code",
   "execution_count": 1,
   "id": "dad2bbee",
   "metadata": {},
   "outputs": [],
   "source": [
    "# Ans : + and * are the two operator overloading methods we can use in our classes to support iteration"
   ]
  },
  {
   "cell_type": "code",
   "execution_count": null,
   "id": "814d354f",
   "metadata": {},
   "outputs": [],
   "source": [
    "# Q2. In what contexts do the two operator overloading methods manage printing?"
   ]
  },
  {
   "cell_type": "code",
   "execution_count": 2,
   "id": "c74319cc",
   "metadata": {},
   "outputs": [],
   "source": [
    "# Ans : str() by defining the __str__(),print() on our object are the 2 operators overloading methods manage printing"
   ]
  },
  {
   "cell_type": "code",
   "execution_count": null,
   "id": "70eb022d",
   "metadata": {},
   "outputs": [],
   "source": [
    "# Q3. In a class, how do you intercept slice operations?"
   ]
  },
  {
   "cell_type": "code",
   "execution_count": 3,
   "id": "eb0f2d42",
   "metadata": {},
   "outputs": [],
   "source": [
    "# Ans : The slice() function returns a slice object. A slice object is used to specify how to slice a sequence. \n",
    "#       You can specify where to start the slicing, and where to end. You can also specify the step, which allows\n",
    "#       you to e.g. slice only every other item."
   ]
  },
  {
   "cell_type": "code",
   "execution_count": null,
   "id": "d08536b5",
   "metadata": {},
   "outputs": [],
   "source": [
    "# Q4. In a class, how do you capture in-place addition?"
   ]
  },
  {
   "cell_type": "code",
   "execution_count": 4,
   "id": "3f351234",
   "metadata": {},
   "outputs": [],
   "source": [
    "# Ans : In-place operation is an operation that changes directly the content of a given linear algebra, vector, \n",
    "#       matrices(Tensor) without making a copy. The operators which helps to do the operation is called in-place \n",
    "#       operator. Eg: a+= b is equivalent to a= operator.iadd(a, b)"
   ]
  },
  {
   "cell_type": "code",
   "execution_count": null,
   "id": "59d587c4",
   "metadata": {},
   "outputs": [],
   "source": [
    "# Q5. When is it appropriate to use operator overloading? "
   ]
  },
  {
   "cell_type": "code",
   "execution_count": 5,
   "id": "daf403a1",
   "metadata": {},
   "outputs": [],
   "source": [
    "# Ans : The operator overloading in Python means provide extended meaning beyond their predefined operational meaning.\n",
    "#       Such as, we use the \"+\" operator for adding two integers as well as joining two strings or merging two lists.\n",
    "#       We can achieve this as the \"+\" operator is overloaded by the \"int\" class and \"str\" class."
   ]
  }
 ],
 "metadata": {
  "kernelspec": {
   "display_name": "Python 3",
   "language": "python",
   "name": "python3"
  },
  "language_info": {
   "codemirror_mode": {
    "name": "ipython",
    "version": 3
   },
   "file_extension": ".py",
   "mimetype": "text/x-python",
   "name": "python",
   "nbconvert_exporter": "python",
   "pygments_lexer": "ipython3",
   "version": "3.9.5"
  }
 },
 "nbformat": 4,
 "nbformat_minor": 5
}
