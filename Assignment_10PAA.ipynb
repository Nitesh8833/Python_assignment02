{
 "cells": [
  {
   "cell_type": "code",
   "execution_count": null,
   "id": "79f54e96",
   "metadata": {},
   "outputs": [],
   "source": [
    "# Q1. What is the difference between __getattr__ and __getattribute__?"
   ]
  },
  {
   "cell_type": "code",
   "execution_count": 1,
   "id": "4f5d6d15",
   "metadata": {},
   "outputs": [],
   "source": [
    "# Ans : getattr : It return the value of attributes which is constructed inside the class and having an class object \n",
    "#       which store its value. If the attribute is not present inside the class and if default value is provided in \n",
    "#       the syntax only then it will return that value else it will show attribute error"
   ]
  },
  {
   "cell_type": "code",
   "execution_count": 2,
   "id": "852b9186",
   "metadata": {},
   "outputs": [
    {
     "name": "stdout",
     "output_type": "stream",
     "text": [
      "Name is: Bhushan\n",
      "Age is: 24\n"
     ]
    }
   ],
   "source": [
    "class Person:\n",
    "    def __init__(self,name):\n",
    "        self.name=name\n",
    "\n",
    "    def __getattr__(self, i):\n",
    "        return 24\n",
    "ob = Person('Bhushan')\n",
    "print(f'Name is: {ob.name}')\n",
    "print(f'Age is: {ob.age}')     \n",
    "# 'age' attributes is neither a instance variable nor a class variable but still it is \n",
    "#  printed because of __getattr__ method"
   ]
  },
  {
   "cell_type": "code",
   "execution_count": 3,
   "id": "612d7452",
   "metadata": {},
   "outputs": [],
   "source": [
    "# getattribute : This method will invoked before looking at the actual attributes on the object. Means, if ywe have \n",
    "#                getattribute method in our class, python invokes this method for every attribute regardless whether \n",
    "#                it exists or not. Lets see the following example."
   ]
  },
  {
   "cell_type": "code",
   "execution_count": 4,
   "id": "7d4ac48a",
   "metadata": {},
   "outputs": [
    {
     "name": "stdout",
     "output_type": "stream",
     "text": [
      "24\n",
      "Age is: 24\n"
     ]
    }
   ],
   "source": [
    "class Person:\n",
    "    def __init__(self,name):\n",
    "        self.name=name\n",
    "    def __getattribute__(self, item):\n",
    "        return 24\n",
    "ob = Person('Koli Bhushan')\n",
    "print(ob.name)\n",
    "print(f'Age is: {ob.age}')    \n",
    "# 'age' attributes is neither a instance variable nor a class variable but still it is printed \n",
    "#  because of __getattr__ method"
   ]
  },
  {
   "cell_type": "code",
   "execution_count": null,
   "id": "587676fe",
   "metadata": {},
   "outputs": [],
   "source": [
    "# Q2. What is the difference between properties and descriptors?"
   ]
  },
  {
   "cell_type": "code",
   "execution_count": 5,
   "id": "4e921147",
   "metadata": {},
   "outputs": [],
   "source": [
    "# Ans : Properties: We can bind getter, setter and delete functions with an attribute name, using the built-in\n",
    "#       property function. When we do this, each reference to an attribute looks like simple, direct access, but \n",
    "#       invokes the appropriate function of the object.\n",
    "#       Descriptors: We can bind getter, setter (and deleter) functions into a separate class. We then assign an \n",
    "#       object of this class to the attribute name. When we do this, each reference to an attribute looks like simple,\n",
    "#       direct access, but invokes an appropriate function of the Descriptor object."
   ]
  },
  {
   "cell_type": "code",
   "execution_count": null,
   "id": "37ec0bc3",
   "metadata": {},
   "outputs": [],
   "source": [
    "# Q3. What are the key differences in functionality between __getattr__ and __getattribute__, as well as properties and descriptors?"
   ]
  },
  {
   "cell_type": "code",
   "execution_count": null,
   "id": "c62c9cfd",
   "metadata": {},
   "outputs": [],
   "source": [
    "# Ans : getattr : It return the value of attributes which is constructed inside the class and having an class object \n",
    "#       which store its value.If the attribute is not present inside the class and if default value is provided in \n",
    "#       the syntax only then it will return that value else it will show attribute error.\n",
    "#       getattribute : This method will invoked before looking at the actual attributes on the object. Means, if \n",
    "#       we have getattribute method in our class, python invokes this method for every attribute regardless whether \n",
    "#       it exists or not.\n",
    "#       Properties: We can bind getter, setter and delete functions with an attribute name, using the built-in property\n",
    "#       function. When we do this, each reference to an attribute looks like simple, direct access, but invokes the\n",
    "#       appropriate function of the object.\n",
    "#       Descriptors: We can bind getter, setter (and deleter) functions into a separate class. We then assign an \n",
    "#       object of this class to the attribute name. When we do this, each reference to an attribute looks like simple, \n",
    "#       direct access, but invokes an appropriate function of the Descriptor object."
   ]
  }
 ],
 "metadata": {
  "kernelspec": {
   "display_name": "Python 3",
   "language": "python",
   "name": "python3"
  },
  "language_info": {
   "codemirror_mode": {
    "name": "ipython",
    "version": 3
   },
   "file_extension": ".py",
   "mimetype": "text/x-python",
   "name": "python",
   "nbconvert_exporter": "python",
   "pygments_lexer": "ipython3",
   "version": "3.9.5"
  }
 },
 "nbformat": 4,
 "nbformat_minor": 5
}
