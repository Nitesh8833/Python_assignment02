{
  "nbformat": 4,
  "nbformat_minor": 0,
  "metadata": {
    "colab": {
      "name": "Assignment_12PAA.ipynb",
      "provenance": [],
      "collapsed_sections": []
    },
    "kernelspec": {
      "name": "python3",
      "display_name": "Python 3"
    },
    "language_info": {
      "name": "python"
    }
  },
  "cells": [
    {
      "cell_type": "markdown",
      "metadata": {
        "id": "i41Oe_UEBXDw"
      },
      "source": [
        "Q1. Does assigning a value to a string's indexed character violate Python's string immutability?"
      ]
    },
    {
      "cell_type": "markdown",
      "metadata": {
        "id": "F_kV9RK-BYEi"
      },
      "source": [
        "Yes"
      ]
    },
    {
      "cell_type": "code",
      "metadata": {
        "id": "W-WHU5I_JsDJ"
      },
      "source": [
        "msg = \"Hello\"\n",
        "msg[0] = \"T\"\n",
        "print(msg)"
      ],
      "execution_count": null,
      "outputs": []
    },
    {
      "cell_type": "markdown",
      "metadata": {
        "id": "HfTF9tudDwNo"
      },
      "source": [
        "Q2. Does using the += operator to concatenate strings violate Python's string immutability? Why or why not?"
      ]
    },
    {
      "cell_type": "markdown",
      "metadata": {
        "id": "FONYJPOO7Tly"
      },
      "source": [
        "No,Because both the variable have diffrent location area and id,so that they are immutable"
      ]
    },
    {
      "cell_type": "code",
      "metadata": {
        "colab": {
          "base_uri": "https://localhost:8080/"
        },
        "id": "l-Xbyzm76lsA",
        "outputId": "61ab2302-f2e0-40de-fb32-5a0e83335a04"
      },
      "source": [
        "name = \"Nitesh\"\n",
        "print(id(name))\n",
        "print(name)\n",
        "name +=\" Kumar\"\n",
        "print(name)\n",
        "print(id(name))"
      ],
      "execution_count": null,
      "outputs": [
        {
          "output_type": "stream",
          "text": [
            "140593646860528\n",
            "Nitesh\n",
            "Nitesh Kumar\n",
            "140593646859888\n"
          ],
          "name": "stdout"
        }
      ]
    },
    {
      "cell_type": "markdown",
      "metadata": {
        "id": "4lVKXFaMD0vU"
      },
      "source": [
        "Q3. In Python, how many different ways are there to index a character?"
      ]
    },
    {
      "cell_type": "markdown",
      "metadata": {
        "id": "ANErDuyP75e5"
      },
      "source": [
        "there are two way to indexing a character\n",
        "\n",
        "1)Positive Indexing\n",
        "\n",
        "2)Negative Indexing"
      ]
    },
    {
      "cell_type": "markdown",
      "metadata": {
        "id": "WD5yKeho87uI"
      },
      "source": [
        "Q4. What is the relationship between indexing and slicing?"
      ]
    },
    {
      "cell_type": "markdown",
      "metadata": {
        "id": "T7Zn-sG48toa"
      },
      "source": [
        "“Indexing” means referring to an element of an iterable by its position within the iterable. “Slicing” means getting a subset of elements from an iterable based on their indices.\n"
      ]
    },
    {
      "cell_type": "code",
      "metadata": {
        "colab": {
          "base_uri": "https://localhost:8080/"
        },
        "id": "HimZbQKh9nDf",
        "outputId": "d5ba1fa3-9470-41a9-a37d-4af871cf65e1"
      },
      "source": [
        "my_list = \"Nitesh\"\n",
        "print(my_list[0]) #indexing\n",
        "print(\"The Sliced element = \", my_list[2:5]) #slicing\n",
        "\n"
      ],
      "execution_count": null,
      "outputs": [
        {
          "output_type": "stream",
          "text": [
            "N\n",
            "The Sliced element =  tes\n"
          ],
          "name": "stdout"
        }
      ]
    },
    {
      "cell_type": "markdown",
      "metadata": {
        "id": "zOnfTtFe-hi1"
      },
      "source": [
        "Q5. What is an indexed character's exact data type? What is the data form of a slicing-generated substring?"
      ]
    },
    {
      "cell_type": "markdown",
      "metadata": {
        "id": "aqIDk6NL-iaH"
      },
      "source": [
        "Both have String data type"
      ]
    },
    {
      "cell_type": "code",
      "metadata": {
        "colab": {
          "base_uri": "https://localhost:8080/"
        },
        "id": "QywuRODl_VSO",
        "outputId": "f55584ab-6a46-4546-908c-cd342d7043c2"
      },
      "source": [
        "print(type(my_list[0]))\n",
        "my_list1 = my_list[0:5]\n",
        "print(type(my_list1))"
      ],
      "execution_count": null,
      "outputs": [
        {
          "output_type": "stream",
          "text": [
            "<class 'str'>\n",
            "<class 'str'>\n"
          ],
          "name": "stdout"
        }
      ]
    },
    {
      "cell_type": "markdown",
      "metadata": {
        "id": "c8fh0YF-_gH_"
      },
      "source": [
        "Q6. What is the relationship between string and character \"types\" in Python?"
      ]
    },
    {
      "cell_type": "markdown",
      "metadata": {
        "id": "mgBJxi4-_g5O"
      },
      "source": [
        "The main difference between Character and String is that Character refers to a single letter, number, space, punctuation mark or a symbol that can be represented using a computer while String refers to a set of characters."
      ]
    },
    {
      "cell_type": "markdown",
      "metadata": {
        "id": "IuMnIx5RADAn"
      },
      "source": [
        "Q7. Identify at least two operators and one method that allow you to combine one or more smaller strings to create a larger string."
      ]
    },
    {
      "cell_type": "markdown",
      "metadata": {
        "id": "V1BosK1LAbg0"
      },
      "source": [
        "1.\"+\"\n",
        "\n",
        "2:\"*\"\n",
        "\n",
        "3.join()"
      ]
    },
    {
      "cell_type": "code",
      "metadata": {
        "colab": {
          "base_uri": "https://localhost:8080/"
        },
        "id": "YMl4--3eAf-Y",
        "outputId": "aa17a497-ae23-449b-99ef-9c501a37b9be"
      },
      "source": [
        "msg = \" Hi Good Morning \"\n",
        "msg2 = \"Nitesh\"\n",
        "message = msg + msg2\n",
        "print(message)\n",
        "\n",
        "print(message * 5)\n",
        "print(\" \".join([msg, msg2]))"
      ],
      "execution_count": null,
      "outputs": [
        {
          "output_type": "stream",
          "text": [
            " Hi Good Morning Nitesh\n",
            " Hi Good Morning Nitesh Hi Good Morning Nitesh Hi Good Morning Nitesh Hi Good Morning Nitesh Hi Good Morning Nitesh\n",
            " Hi Good Morning  Nitesh\n"
          ],
          "name": "stdout"
        }
      ]
    },
    {
      "cell_type": "markdown",
      "metadata": {
        "id": "Ehfo_wl8Cg2f"
      },
      "source": [
        "Q8. What is the benefit of first checking the target string with in or not in before using the index method to find a substring?"
      ]
    },
    {
      "cell_type": "markdown",
      "metadata": {
        "id": "Xj1-vN-7Chtf"
      },
      "source": [
        "The benefit of first checking the target string is that if the substring not avaialable in target string it will throw value error so we have to ready to handle that error through try and catch"
      ]
    },
    {
      "cell_type": "markdown",
      "metadata": {
        "id": "XaH3ZGuNGaAX"
      },
      "source": [
        "Q9. Which operators and built-in string methods produce simple Boolean (true/false) results?"
      ]
    },
    {
      "cell_type": "code",
      "metadata": {
        "colab": {
          "base_uri": "https://localhost:8080/"
        },
        "id": "lyHflJMqG47r",
        "outputId": "c1c39a86-e8ef-4eae-ef08-afa8224335ec"
      },
      "source": [
        "print(3 == 4)\n",
        "\n",
        "print(4 != 5)\n",
        "\n",
        "print(4 > 3)\n",
        "print( 4 < 4)\n",
        "print(7 >= 6)\n",
        "print(8 <= 9)\n",
        "\n",
        "print(bool(\"Nitesh\"))\n"
      ],
      "execution_count": null,
      "outputs": [
        {
          "output_type": "stream",
          "text": [
            "False\n",
            "True\n",
            "True\n",
            "False\n",
            "True\n",
            "True\n",
            "True\n"
          ],
          "name": "stdout"
        }
      ]
    },
    {
      "cell_type": "markdown",
      "metadata": {
        "id": "vJUkaMUeGd45"
      },
      "source": [
        ""
      ]
    }
  ]
}