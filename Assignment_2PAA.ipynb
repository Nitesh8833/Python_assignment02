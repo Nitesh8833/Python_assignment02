{
  "nbformat": 4,
  "nbformat_minor": 0,
  "metadata": {
    "colab": {
      "name": "Assignment_2PAA.ipynb",
      "provenance": [],
      "collapsed_sections": []
    },
    "kernelspec": {
      "name": "python3",
      "display_name": "Python 3"
    },
    "language_info": {
      "name": "python"
    }
  },
  "cells": [
    {
      "cell_type": "markdown",
      "metadata": {
        "id": "YYas2SVC7PQW"
      },
      "source": [
        "Q1. What is the relationship between classes and modules?"
      ]
    },
    {
      "cell_type": "markdown",
      "metadata": {
        "id": "zMZQAsNw7SKY"
      },
      "source": [
        "Python has a way to put definitions in a file and use them in a script or in an interactive instance of the interpreter. Such a file is called a module; definitions from a module can be imported into other modules or into the main module. So, a python module is nothing but a package to encapsulate reusable code. Modules reside in a folder with a __init__.py file on it. Modules can contain functions but also classes. Modules are imported using the import keyword.\n",
        "\n",
        "Classes can be defined in your main application code or inside modules imported by your application. Classes are the core of Object Oriented Programming and can contain properties and methods. You can create multiple instances of a class, but you cannot create instances of a module. You could compare modules to static classes or singletons."
      ]
    },
    {
      "cell_type": "markdown",
      "metadata": {
        "id": "Of2h8epXFRpK"
      },
      "source": [
        "Q2. How do you make instances and classes?"
      ]
    },
    {
      "cell_type": "code",
      "metadata": {
        "id": "hDXHtvmjSgj_"
      },
      "source": [
        "#creation of class\n",
        "class Employee:\n",
        "   'Common base class for all employees'\n",
        "   empCount = 0\n",
        "\n",
        "   def __init__(self, name, salary):\n",
        "      self.name = name\n",
        "      self.salary = salary\n",
        "      Employee.empCount += 1\n",
        "   \n",
        "   def displayCount(self):\n",
        "     print(\"Total Employee %d\" % Employee.empCount)\n",
        "\n",
        "   def displayEmployee(self):\n",
        "      print(\"Name : \", self.name,  \", Salary: \", self.salary)"
      ],
      "execution_count": null,
      "outputs": []
    },
    {
      "cell_type": "code",
      "metadata": {
        "colab": {
          "base_uri": "https://localhost:8080/"
        },
        "id": "0PPS6fSPSrSr",
        "outputId": "ec4d307e-0396-453f-c732-6fb0be032484"
      },
      "source": [
        "#Creation of instance\n",
        "#\"This would create first object of Employee class\"\n",
        "emp1 = Employee(\"Zara\", 2000)\n",
        "#\"This would create second object of Employee class\"\n",
        "emp2 = Employee(\"Manni\", 5000)\n",
        "emp1.displayEmployee()\n",
        "emp2.displayEmployee()"
      ],
      "execution_count": null,
      "outputs": [
        {
          "output_type": "stream",
          "text": [
            "Name :  Zara , Salary:  2000\n",
            "Name :  Manni , Salary:  5000\n"
          ],
          "name": "stdout"
        }
      ]
    },
    {
      "cell_type": "markdown",
      "metadata": {
        "id": "k6Is4u26TOYl"
      },
      "source": [
        "Q3. Where and how should be class attributes created?"
      ]
    },
    {
      "cell_type": "code",
      "metadata": {
        "colab": {
          "base_uri": "https://localhost:8080/"
        },
        "id": "JN1T92xoUKgf",
        "outputId": "ab3c4c63-8795-493d-813b-9da33a8898f7"
      },
      "source": [
        "#we can create class attribute after class creation and method creation,classs attributes define outside the class\n",
        "#class attributes can be accessed using dot operator\n",
        "#You access the object's attributes using the dot operator with object. Class variable would be accessed using class name\n",
        "emp1.displayEmployee()\n",
        "emp2.displayEmployee()\n",
        "print(\"Total Employee %d\" % Employee.empCount)"
      ],
      "execution_count": null,
      "outputs": [
        {
          "output_type": "stream",
          "text": [
            "Name :  Zara , Salary:  2000\n",
            "Name :  Manni , Salary:  5000\n",
            "Total Employee 4\n"
          ],
          "name": "stdout"
        }
      ]
    },
    {
      "cell_type": "markdown",
      "metadata": {
        "id": "3sIcGYP6W52x"
      },
      "source": [
        "Q4. Where and how are instance attributes created?"
      ]
    },
    {
      "cell_type": "code",
      "metadata": {
        "id": "SVn3PsdsXC98"
      },
      "source": [
        "#An instance attribute is a Python variable belonging to only one object. It is only accessible in the scope of the object and\n",
        "# it is defined inside the constructor function of a class. For example, __init__(self,..).\n",
        "\n",
        "def __init__(self, name, salary):\n",
        "      self.name = name\n",
        "      self.salary = salary\n",
        "      Employee.empCount += 1"
      ],
      "execution_count": null,
      "outputs": []
    },
    {
      "cell_type": "markdown",
      "metadata": {
        "id": "lBomwMLgXvez"
      },
      "source": [
        "Q5. What does the term \"self\" in a Python class mean?"
      ]
    },
    {
      "cell_type": "markdown",
      "metadata": {
        "id": "fiR09EpGYQpf"
      },
      "source": [
        "self represents the instance of the class. By using the “self” keyword we can access the attributes and methods of the class in python. It binds the attributes with the given arguments.\n",
        "\n",
        "The reason you need to use self. is because Python does not use the @ syntax to refer to instance attributes. Python decided to do methods in a way that makes the instance to which the method belongs be passed automatically, but not received automatically: the first parameter of methods is the instance the method is called on.\n",
        "\n",
        "Self is always pointing to Current Object.\n",
        "\n",
        "Self is the first argument to be passed in Constructor and Instance Method.\n",
        "\n",
        "Self must be provided as a First parameter to the Instance method and constructor. If you don’t provide it, it will cause an error.\n",
        "\n",
        "self is parameter in Instance Method and user can use another parameter name in place of it. But it is advisable to use self because it increases the readability of code, and it is also a good programming practice."
      ]
    },
    {
      "cell_type": "markdown",
      "metadata": {
        "id": "A3LbwFemYVA8"
      },
      "source": [
        "Q6. How does a Python class handle operator overloading?"
      ]
    },
    {
      "cell_type": "markdown",
      "metadata": {
        "id": "q7CMQLL0YYkR"
      },
      "source": [
        "Python class handle operator overloading using special functions like __add__(self, other),__sub__(self, other),etc"
      ]
    },
    {
      "cell_type": "markdown",
      "metadata": {
        "id": "FxEyetPaeYaJ"
      },
      "source": [
        "Q7. When do you consider allowing operator overloading of your classes?"
      ]
    },
    {
      "cell_type": "markdown",
      "metadata": {
        "id": "JD3K5Afleb6d"
      },
      "source": [
        "When we need more then one work with single operator at that time we are consider operator overloading like using '+' for addition as well as merging of list  at that point of time we are considering operator overloading"
      ]
    },
    {
      "cell_type": "markdown",
      "metadata": {
        "id": "smAEKh49hWWV"
      },
      "source": [
        "Q8. What is the most popular form of operator overloading?"
      ]
    },
    {
      "cell_type": "markdown",
      "metadata": {
        "id": "-OkH3el_haLe"
      },
      "source": [
        " the + operator will perform arithmetic addition on two numbers, merge two lists, or concatenate two strings. This feature in Python that allows the same operator to have different meaning according to the context"
      ]
    },
    {
      "cell_type": "markdown",
      "metadata": {
        "id": "54rEEtqch5v4"
      },
      "source": [
        "Q9. What are the two most important concepts to grasp in order to comprehend Python OOP code?"
      ]
    },
    {
      "cell_type": "markdown",
      "metadata": {
        "id": "wgV8t5eIh-p1"
      },
      "source": [
        "there are four fundamental concepts of Object-oriented programming – Inheritance, Encapsulation, Polymorphism, and Data abstraction."
      ]
    }
  ]
}